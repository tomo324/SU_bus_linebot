{
 "cells": [
  {
   "cell_type": "code",
   "execution_count": 2,
   "metadata": {},
   "outputs": [],
   "source": [
    "from linebot import LineBotApi\n",
    "from linebot.models import TextSendMessage\n",
    "import settings\n",
    "import bus_info\n",
    "\n",
    "line_bot_api = LineBotApi(settings.CHANNEL_ACCESS_TOKEN)\n",
    "\n",
    "kokusai_info = bus_info.KokusaiScraper()\n",
    "kokusai_result = kokusai_info.scrape()\n",
    "\n",
    "seibu_info = bus_info.SeibuScraper()\n",
    "seibu_result = seibu_info.scrape()\n",
    "\n",
    "text = \"\"\n",
    "\n",
    "def main():\n",
    "    messages = TextSendMessage(text)\n",
    "    line_bot_api.push_message(settings.USER_ID, messages=messages)\n",
    "\n",
    "if __name__ == \"__main__\":\n",
    "    if kokusai_result is not None:\n",
    "        if int(kokusai_result) > 5:\n",
    "            text += \"国際興業バス:\" + kokusai_result + \"分の遅れ\" + \"\\n\"\n",
    "    if seibu_result is not None:\n",
    "        if int(seibu_result) > 18:\n",
    "            text += \"西武バス所要時間:\" + seibu_result + \"分\"\n",
    "    if text:\n",
    "        main()"
   ]
  }
 ],
 "metadata": {
  "kernelspec": {
   "display_name": "Python 3",
   "language": "python",
   "name": "python3"
  },
  "language_info": {
   "codemirror_mode": {
    "name": "ipython",
    "version": 3
   },
   "file_extension": ".py",
   "mimetype": "text/x-python",
   "name": "python",
   "nbconvert_exporter": "python",
   "pygments_lexer": "ipython3",
   "version": "3.10.2"
  },
  "orig_nbformat": 4
 },
 "nbformat": 4,
 "nbformat_minor": 2
}
